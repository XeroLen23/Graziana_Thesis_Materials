{
 "cells": [
  {
   "cell_type": "code",
   "execution_count": 1,
   "metadata": {},
   "outputs": [],
   "source": [
    "import pandas as pd\n",
    "import numpy as np\n",
    "import os"
   ]
  },
  {
   "attachments": {},
   "cell_type": "markdown",
   "metadata": {},
   "source": [
    "### Create columns names dictionary"
   ]
  },
  {
   "cell_type": "code",
   "execution_count": 2,
   "metadata": {},
   "outputs": [],
   "source": [
    "filename_2020 = \"columns_to_mantain_2020.txt\"\n",
    "\n",
    "columns_to_keep_2020 = []\n",
    "\n",
    "with open(filename_2020) as file:\n",
    "    for line in file:\n",
    "        columns_to_keep_2020.append(line.rstrip())"
   ]
  },
  {
   "cell_type": "code",
   "execution_count": 3,
   "metadata": {},
   "outputs": [],
   "source": [
    "filename = \"column_to_mantain.txt\"\n",
    "\n",
    "columns_to_keep = []\n",
    "\n",
    "with open(filename) as file:\n",
    "    for line in file:\n",
    "        columns_to_keep.append(line.rstrip())"
   ]
  },
  {
   "cell_type": "code",
   "execution_count": 4,
   "metadata": {},
   "outputs": [],
   "source": [
    "columns_names_dict = dict(zip(columns_to_keep_2020, columns_to_keep))"
   ]
  },
  {
   "attachments": {},
   "cell_type": "markdown",
   "metadata": {},
   "source": [
    "### Iterate over all the 2020 files and rename the columns"
   ]
  },
  {
   "cell_type": "code",
   "execution_count": 5,
   "metadata": {},
   "outputs": [],
   "source": [
    "root_path = os.getcwd()\n",
    "\n",
    "my_file = root_path + \"\\\\CSV_Files - input\\\\\" # Cartella Padre\n",
    "\n",
    "subfolders = [ f.path for f in os.scandir(my_file) if f.is_dir() ]\n",
    "\n",
    "#for per scorrere le cartelle nella cartella padre\n",
    "for iter_subfolders in range(len(subfolders)):\n",
    "     #for per scorrere ogni file nella sotto-cartella, un po inutile visto che c'è solo un file per cartella\n",
    "     for fileName in os.listdir(subfolders[iter_subfolders]):\n",
    "          #nome della cartella soggetto in cui sto leggendo il file (e.g., a1d4)\n",
    "          folder_name = str(os.path.basename(os.path.normpath(subfolders[iter_subfolders])))\n",
    "          \n",
    "          #apro il csv con pandas e associarlo ad un df\n",
    "          df = pd.read_csv(my_file + folder_name + \"\\\\\" + fileName, low_memory=False, skiprows=4, usecols=columns_to_keep_2020)\n",
    "\n",
    "          # Rinomino le colonne secondo il dizionario sopra definito\n",
    "          df.rename(columns=columns_names_dict, inplace=True)\n",
    "\n",
    "          #salvo con lo stesso nome, ma in una cartella padre di output\n",
    "          df.to_csv(root_path + \"\\\\CSV_Files - 2020 renamed output\\\\\" + folder_name + \"\\\\\" + fileName, index=False)    "
   ]
  }
 ],
 "metadata": {
  "kernelspec": {
   "display_name": "py311_thesis",
   "language": "python",
   "name": "python3"
  },
  "language_info": {
   "codemirror_mode": {
    "name": "ipython",
    "version": 3
   },
   "file_extension": ".py",
   "mimetype": "text/x-python",
   "name": "python",
   "nbconvert_exporter": "python",
   "pygments_lexer": "ipython3",
   "version": "3.11.1"
  },
  "orig_nbformat": 4
 },
 "nbformat": 4,
 "nbformat_minor": 2
}
