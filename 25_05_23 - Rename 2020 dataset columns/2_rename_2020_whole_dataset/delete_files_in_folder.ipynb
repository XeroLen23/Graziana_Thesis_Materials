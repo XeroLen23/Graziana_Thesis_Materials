{
 "cells": [
  {
   "cell_type": "code",
   "execution_count": 2,
   "id": "86ef922c-8d4c-4324-9854-134ff4673a83",
   "metadata": {},
   "outputs": [],
   "source": [
    "import os\n",
    "import os.path\n",
    "import fnmatch\n",
    "import pandas as pd\n",
    "import string"
   ]
  },
  {
   "cell_type": "code",
   "execution_count": 3,
   "id": "2373351f-70ec-45de-9a8f-50fada24aa64",
   "metadata": {},
   "outputs": [
    {
     "name": "stdout",
     "output_type": "stream",
     "text": [
      "Finish!\n"
     ]
    }
   ],
   "source": [
    "root_path = os.getcwd()\n",
    "\n",
    "folder_path = root_path + \"\\\\CSV_Files - 2020 renamed output\"\n",
    "\n",
    "\n",
    "subfolders = [ f.path for f in os.scandir(folder_path) if f.is_dir() ]\n",
    "\n",
    "for iter_subfolders in range(len(subfolders)):\n",
    "    for fileName in os.listdir(subfolders[iter_subfolders]):\n",
    "        folder_name = str(os.path.basename(os.path.normpath(subfolders[iter_subfolders])))\n",
    "        \n",
    "        file_to_remove = folder_path + \"\\\\\" + folder_name + \"\\\\\" + fileName\n",
    "        os.remove(file_to_remove)\n",
    "        \n",
    "print(\"Finish!\")"
   ]
  }
 ],
 "metadata": {
  "kernelspec": {
   "display_name": "Python 3",
   "language": "python",
   "name": "python3"
  },
  "language_info": {
   "codemirror_mode": {
    "name": "ipython",
    "version": 3
   },
   "file_extension": ".py",
   "mimetype": "text/x-python",
   "name": "python",
   "nbconvert_exporter": "python",
   "pygments_lexer": "ipython3",
   "version": "3.11.1"
  }
 },
 "nbformat": 4,
 "nbformat_minor": 5
}
