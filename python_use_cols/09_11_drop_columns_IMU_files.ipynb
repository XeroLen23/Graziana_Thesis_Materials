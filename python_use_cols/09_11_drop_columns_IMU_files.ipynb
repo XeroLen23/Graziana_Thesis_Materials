{
 "cells": [
  {
   "cell_type": "code",
   "execution_count": 1,
   "id": "03244f67-28f4-47d6-afa8-57a921f7a46b",
   "metadata": {},
   "outputs": [],
   "source": [
    "import os\n",
    "import os.path\n",
    "\n",
    "import fnmatch\n",
    "\n",
    "import pandas as pd\n",
    "\n",
    "import string"
   ]
  },
  {
   "cell_type": "code",
   "execution_count": 2,
   "id": "85e59b8e-625c-49f1-a24f-4c85b68f10ee",
   "metadata": {},
   "outputs": [
    {
     "name": "stdout",
     "output_type": "stream",
     "text": [
      "['Time_s', 'LTHipFlexion_deg', 'LTHipAbduction_deg', 'LTHipRotation_Out_deg', 'LTKneeFlexion_deg', 'LTAnkleDorsiflexion_deg', 'LTAnkleInversion_deg', 'LTAnkleAbduction_deg', 'LTThighCourse_deg', 'LTThighPitch_deg', 'LTThighRoll_deg', 'LTShankCourse_deg', 'LTShankPitch_deg', 'LTShankRoll_deg', 'LTFootCourse_deg', 'LTFootPitch_deg', 'LTFootRoll_deg', 'UpperSpineAccelSensorX_mG', 'UpperSpineAccelSensorY_mG', 'UpperSpineAccelSensorZ_mG', 'LowerSpineAccelSensorX_mG', 'LowerSpineAccelSensorY_mG', 'LowerSpineAccelSensorZ_mG', 'PelvisAccelSensorX_mG', 'PelvisAccelSensorY_mG', 'PelvisAccelSensorZ_mG', 'LTThighAccelSensorX_mG', 'LTThighAccelSensorY_mG', 'LTThighAccelSensorZ_mG', 'LTShankAccelSensorX_mG', 'LTShankAccelSensorY_mG', 'LTShankAccelSensorZ_mG', 'LTFootAccelSensorX_mG', 'LTFootAccelSensorY_mG', 'LTFootAccelSensorZ_mG', 'RTThighAccelSensorX_mG', 'RTThighAccelSensorY_mG', 'RTThighAccelSensorZ_mG', 'RTShankAccelSensorX_mG', 'RTShankAccelSensorY_mG', 'RTShankAccelSensorZ_mG', 'RTFootAccelSensorX_mG', 'RTFootAccelSensorY_mG', 'RTFootAccelSensorZ_mG', 'UpperSpineRotX_', 'UpperSpineRotY_', 'UpperSpineRotZ_', 'LowerSpineRotX_', 'LowerSpineRotY_', 'LowerSpineRotZ_', 'PelvisRotX_', 'PelvisRotY_', 'PelvisRotZ_', 'LTThighRotX_', 'LTThighRotY_', 'LTThighRotZ_', 'LTShankRotX_', 'LTShankRotY_', 'LTShankRotZ_', 'LTFootRotX_', 'LTFootRotY_', 'LTFootRotZ_', 'RTThighRotX_', 'RTThighRotY_', 'RTThighRotZ_', 'RTShankRotX_', 'RTShankRotY_', 'RTShankRotZ_', 'RTFootRotX_', 'RTFootRotY_', 'RTFootRotZ_']\n"
     ]
    }
   ],
   "source": [
    "filename = \"PATH_TO_TXT_FILE\"\n",
    "\n",
    "columns_to_keep = []\n",
    "\n",
    "with open(filename) as file:\n",
    "    for line in file:\n",
    "        columns_to_keep.append(line.rstrip())\n",
    "        \n",
    "#print(columns_to_keep)"
   ]
  },
  {
   "attachments": {},
   "cell_type": "markdown",
   "id": "61a1fbfa-6277-4b36-8396-9436e2c3842b",
   "metadata": {},
   "source": [
    "# Itero le sottocartelle e droppo le colonne dei file contenuti in ciascuna"
   ]
  },
  {
   "cell_type": "code",
   "execution_count": 3,
   "id": "d519dd9f-5810-4208-b60b-48d5fdcf346d",
   "metadata": {},
   "outputs": [],
   "source": [
    "# Path cartella padre, al cui interno ci sono tutte le sotto-cartelle con i soggetti\n",
    "root_path = os.getcwd()\n",
    "\n",
    "my_file = root_path + \"\\\\CSV_Files_FinalDataset\\\\\" # Cartella Padre\n",
    "\n",
    "subfolders = [ f.path for f in os.scandir(my_file) if f.is_dir() ]\n",
    "\n",
    "#for per scorrere le cartelle nella cartella padre\n",
    "for iter_subfolders in range(len(subfolders)):\n",
    "     #for per scorrere ogni file nella sotto-cartella, un po inutile visto che c'è solo un file per cartella\n",
    "     for fileName in os.listdir(subfolders[iter_subfolders]):\n",
    "          #nome della cartella soggetto in cui sto leggendo il file (e.g., a1d4)\n",
    "          folder_name = str(os.path.basename(os.path.normpath(subfolders[iter_subfolders])))\n",
    "          \n",
    "          #apro il csv con pandas e associarlo ad un df\n",
    "          df = pd.read_csv(my_file + folder_name + \"\\\\\" + fileName, sep=';', usecols=columns_to_keep)\n",
    "          \n",
    "          #salvo con lo stesso nome, ma in una cartella padre di output\n",
    "          df.to_csv(root_path + \"\\\\OUTPUT\\\\\" + folder_name + \"\\\\\" + fileName, sep=';', index=False)    "
   ]
  }
 ],
 "metadata": {
  "kernelspec": {
   "display_name": "Python 3",
   "language": "python",
   "name": "python3"
  },
  "language_info": {
   "codemirror_mode": {
    "name": "ipython",
    "version": 3
   },
   "file_extension": ".py",
   "mimetype": "text/x-python",
   "name": "python",
   "nbconvert_exporter": "python",
   "pygments_lexer": "ipython3",
   "version": "3.8.13"
  }
 },
 "nbformat": 4,
 "nbformat_minor": 5
}
