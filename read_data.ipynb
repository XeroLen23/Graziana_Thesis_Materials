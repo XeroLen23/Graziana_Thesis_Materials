{
 "cells": [
  {
   "attachments": {},
   "cell_type": "markdown",
   "metadata": {},
   "source": [
    "# Library import"
   ]
  },
  {
   "cell_type": "code",
   "execution_count": 10,
   "metadata": {},
   "outputs": [],
   "source": [
    "import pandas as pd\n",
    "import numpy as np\n",
    "import os"
   ]
  },
  {
   "attachments": {},
   "cell_type": "markdown",
   "metadata": {},
   "source": [
    "# Read data"
   ]
  },
  {
   "cell_type": "code",
   "execution_count": 23,
   "metadata": {},
   "outputs": [],
   "source": [
    "base_path = os.getcwd()\n",
    "\n",
    "first_version_data = pd.read_csv(base_path + '\\\\data\\\\1\\\\q5Re8u4F_TreadmillW$_NOR.csv', low_memory=False, skiprows=4)\n",
    "second_version_data = pd.read_csv(base_path + '\\\\data\\\\2\\\\76An_treadmill_WS_noraxon.csv', low_memory=False, skiprows=4)\n",
    "# third_version_data = pd.read_csv(base_path + '\\\\data\\\\3\\\\T1JH_overground_WS_noraxon.csv', low_memory=False, skiprows=4)"
   ]
  },
  {
   "attachments": {},
   "cell_type": "markdown",
   "metadata": {},
   "source": [
    "# Data analysis"
   ]
  },
  {
   "cell_type": "code",
   "execution_count": 13,
   "metadata": {},
   "outputs": [],
   "source": [
    "# first_version_data.head()\n",
    "# second_version_data.head()"
   ]
  },
  {
   "attachments": {},
   "cell_type": "markdown",
   "metadata": {},
   "source": [
    "### Print data shape"
   ]
  },
  {
   "cell_type": "code",
   "execution_count": 14,
   "metadata": {},
   "outputs": [
    {
     "name": "stdout",
     "output_type": "stream",
     "text": [
      "(30180, 102)\n",
      "(30004, 148)\n"
     ]
    }
   ],
   "source": [
    "print(first_version_data.shape)\n",
    "print(second_version_data.shape)"
   ]
  },
  {
   "attachments": {},
   "cell_type": "markdown",
   "metadata": {},
   "source": [
    "### Saving the columns name into list"
   ]
  },
  {
   "cell_type": "code",
   "execution_count": 15,
   "metadata": {},
   "outputs": [],
   "source": [
    "first_dataset_columns_names_list = first_version_data.keys().values.tolist()\n",
    "second_dataset_columns_names_list = second_version_data.keys().values.tolist()\n"
   ]
  },
  {
   "cell_type": "code",
   "execution_count": null,
   "metadata": {},
   "outputs": [],
   "source": [
    "second_dataset_columns_names_list"
   ]
  }
 ],
 "metadata": {
  "kernelspec": {
   "display_name": "py311_thesis",
   "language": "python",
   "name": "python3"
  },
  "language_info": {
   "codemirror_mode": {
    "name": "ipython",
    "version": 3
   },
   "file_extension": ".py",
   "mimetype": "text/x-python",
   "name": "python",
   "nbconvert_exporter": "python",
   "pygments_lexer": "ipython3",
   "version": "3.11.1"
  },
  "orig_nbformat": 4
 },
 "nbformat": 4,
 "nbformat_minor": 2
}
